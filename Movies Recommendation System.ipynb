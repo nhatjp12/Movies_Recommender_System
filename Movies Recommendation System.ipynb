{
 "cells": [
  {
   "cell_type": "code",
   "execution_count": 1,
   "id": "09f7fc44",
   "metadata": {},
   "outputs": [],
   "source": [
    "import numpy as np \n",
    "import pandas as pd\n",
    "import difflib\n",
    "from sklearn.feature_extraction.text import TfidfVectorizer\n",
    "from sklearn.metrics.pairwise import cosine_similarity"
   ]
  },
  {
   "cell_type": "code",
   "execution_count": 2,
   "id": "ca484676",
   "metadata": {
    "scrolled": true
   },
   "outputs": [],
   "source": [
    "movies_data = pd.read_excel('finals.xlsx')"
   ]
  },
  {
   "cell_type": "code",
   "execution_count": 3,
   "id": "921dbc01",
   "metadata": {
    "scrolled": false
   },
   "outputs": [
    {
     "data": {
      "text/html": [
       "<div>\n",
       "<style scoped>\n",
       "    .dataframe tbody tr th:only-of-type {\n",
       "        vertical-align: middle;\n",
       "    }\n",
       "\n",
       "    .dataframe tbody tr th {\n",
       "        vertical-align: top;\n",
       "    }\n",
       "\n",
       "    .dataframe thead th {\n",
       "        text-align: right;\n",
       "    }\n",
       "</style>\n",
       "<table border=\"1\" class=\"dataframe\">\n",
       "  <thead>\n",
       "    <tr style=\"text-align: right;\">\n",
       "      <th></th>\n",
       "      <th>Name_of_movie</th>\n",
       "      <th>Description</th>\n",
       "      <th>Director</th>\n",
       "      <th>Star</th>\n",
       "      <th>Index</th>\n",
       "    </tr>\n",
       "  </thead>\n",
       "  <tbody>\n",
       "    <tr>\n",
       "      <th>0</th>\n",
       "      <td>Lưỡi Cưa</td>\n",
       "      <td>Two strangers awaken in a room with no recolle...</td>\n",
       "      <td>James Wan</td>\n",
       "      <td>Cary Elwes  Leigh Whannell  Danny Glover  Ken ...</td>\n",
       "      <td>0</td>\n",
       "    </tr>\n",
       "    <tr>\n",
       "      <th>1</th>\n",
       "      <td>Harry Potter và Hòn Đá Phù Thủy</td>\n",
       "      <td>An orphaned boy enrolls in a school of wizardr...</td>\n",
       "      <td>Chris Columbus</td>\n",
       "      <td>Daniel Radcliffe  Rupert Grint  Richard Harris...</td>\n",
       "      <td>1</td>\n",
       "    </tr>\n",
       "    <tr>\n",
       "      <th>2</th>\n",
       "      <td>Kẻ Sát Nhân Cuồng Tín</td>\n",
       "      <td>A wealthy New York City investment banking exe...</td>\n",
       "      <td>Mary Harron</td>\n",
       "      <td>Christian Bale  Justin Theroux  Josh Lucas  Bi...</td>\n",
       "      <td>2</td>\n",
       "    </tr>\n",
       "    <tr>\n",
       "      <th>3</th>\n",
       "      <td>Ngôi Nhà Toàn Ma</td>\n",
       "      <td>In 1945, immediately following the end of Seco...</td>\n",
       "      <td>Alejandro Amenábar</td>\n",
       "      <td>Nicole Kidman  Christopher Eccleston  Fionnula...</td>\n",
       "      <td>3</td>\n",
       "    </tr>\n",
       "    <tr>\n",
       "      <th>4</th>\n",
       "      <td>Chuyện Ngày Xưa Ở... Hollywood</td>\n",
       "      <td>A faded television actor and his stunt double ...</td>\n",
       "      <td>Quentin Tarantino</td>\n",
       "      <td>Leonardo DiCaprio  Brad Pitt  Margot Robbie  E...</td>\n",
       "      <td>4</td>\n",
       "    </tr>\n",
       "    <tr>\n",
       "      <th>...</th>\n",
       "      <td>...</td>\n",
       "      <td>...</td>\n",
       "      <td>...</td>\n",
       "      <td>...</td>\n",
       "      <td>...</td>\n",
       "    </tr>\n",
       "    <tr>\n",
       "      <th>195</th>\n",
       "      <td>À bout de souffle</td>\n",
       "      <td>A small-time thief steals a car and impulsivel...</td>\n",
       "      <td>Jean-Luc Godard</td>\n",
       "      <td>Jean-Paul Belmondo  Jean Seberg  Van Doude  Je...</td>\n",
       "      <td>195</td>\n",
       "    </tr>\n",
       "    <tr>\n",
       "      <th>196</th>\n",
       "      <td>Cape Fear</td>\n",
       "      <td>A lawyer's family is stalked by a man he once ...</td>\n",
       "      <td>J. Lee Thompson</td>\n",
       "      <td>Gregory Peck  Robert Mitchum  Polly Bergen  Lo...</td>\n",
       "      <td>196</td>\n",
       "    </tr>\n",
       "    <tr>\n",
       "      <th>197</th>\n",
       "      <td>The Lady Vanishes</td>\n",
       "      <td>While travelling in continental Europe, a rich...</td>\n",
       "      <td>Alfred Hitchcock</td>\n",
       "      <td>Margaret Lockwood  Michael Redgrave  Paul Luka...</td>\n",
       "      <td>197</td>\n",
       "    </tr>\n",
       "    <tr>\n",
       "      <th>198</th>\n",
       "      <td>La planète sauvage</td>\n",
       "      <td>On a faraway planet where blue giants rule, op...</td>\n",
       "      <td>René Laloux</td>\n",
       "      <td>Barry Bostwick  Jennifer Drake  Eric Baugin  J...</td>\n",
       "      <td>198</td>\n",
       "    </tr>\n",
       "    <tr>\n",
       "      <th>199</th>\n",
       "      <td>The Muppet Christmas Carol</td>\n",
       "      <td>The Muppets present their own touching renditi...</td>\n",
       "      <td>Brian Henson</td>\n",
       "      <td>Michael Caine  Dave Goelz  Steve Whitmire  Jer...</td>\n",
       "      <td>199</td>\n",
       "    </tr>\n",
       "  </tbody>\n",
       "</table>\n",
       "<p>200 rows × 5 columns</p>\n",
       "</div>"
      ],
      "text/plain": [
       "                       Name_of_movie  \\\n",
       "0                           Lưỡi Cưa   \n",
       "1    Harry Potter và Hòn Đá Phù Thủy   \n",
       "2              Kẻ Sát Nhân Cuồng Tín   \n",
       "3                   Ngôi Nhà Toàn Ma   \n",
       "4     Chuyện Ngày Xưa Ở... Hollywood   \n",
       "..                               ...   \n",
       "195                À bout de souffle   \n",
       "196                        Cape Fear   \n",
       "197                The Lady Vanishes   \n",
       "198               La planète sauvage   \n",
       "199       The Muppet Christmas Carol   \n",
       "\n",
       "                                           Description            Director  \\\n",
       "0    Two strangers awaken in a room with no recolle...           James Wan   \n",
       "1    An orphaned boy enrolls in a school of wizardr...      Chris Columbus   \n",
       "2    A wealthy New York City investment banking exe...         Mary Harron   \n",
       "3    In 1945, immediately following the end of Seco...  Alejandro Amenábar   \n",
       "4    A faded television actor and his stunt double ...   Quentin Tarantino   \n",
       "..                                                 ...                 ...   \n",
       "195  A small-time thief steals a car and impulsivel...     Jean-Luc Godard   \n",
       "196  A lawyer's family is stalked by a man he once ...     J. Lee Thompson   \n",
       "197  While travelling in continental Europe, a rich...    Alfred Hitchcock   \n",
       "198  On a faraway planet where blue giants rule, op...         René Laloux   \n",
       "199  The Muppets present their own touching renditi...        Brian Henson   \n",
       "\n",
       "                                                  Star  Index  \n",
       "0    Cary Elwes  Leigh Whannell  Danny Glover  Ken ...      0  \n",
       "1    Daniel Radcliffe  Rupert Grint  Richard Harris...      1  \n",
       "2    Christian Bale  Justin Theroux  Josh Lucas  Bi...      2  \n",
       "3    Nicole Kidman  Christopher Eccleston  Fionnula...      3  \n",
       "4    Leonardo DiCaprio  Brad Pitt  Margot Robbie  E...      4  \n",
       "..                                                 ...    ...  \n",
       "195  Jean-Paul Belmondo  Jean Seberg  Van Doude  Je...    195  \n",
       "196  Gregory Peck  Robert Mitchum  Polly Bergen  Lo...    196  \n",
       "197  Margaret Lockwood  Michael Redgrave  Paul Luka...    197  \n",
       "198  Barry Bostwick  Jennifer Drake  Eric Baugin  J...    198  \n",
       "199  Michael Caine  Dave Goelz  Steve Whitmire  Jer...    199  \n",
       "\n",
       "[200 rows x 5 columns]"
      ]
     },
     "execution_count": 3,
     "metadata": {},
     "output_type": "execute_result"
    }
   ],
   "source": [
    "movies_data"
   ]
  },
  {
   "cell_type": "code",
   "execution_count": 4,
   "id": "b528e2d4",
   "metadata": {},
   "outputs": [],
   "source": [
    "import pandas as pd\n",
    "\n",
    "# Thêm cột index bằng cách sử dụng hàm reset_index\n",
    "#movies_data['Index'] = movies_data.reset_index().index\n",
    "\n",
    "# Lưu lại tệp Excel với cột index mới\n",
    "#movies_data.to_excel('Finals.xlsx', index=False)"
   ]
  },
  {
   "cell_type": "code",
   "execution_count": 5,
   "id": "ef15513c",
   "metadata": {},
   "outputs": [
    {
     "data": {
      "text/html": [
       "<div>\n",
       "<style scoped>\n",
       "    .dataframe tbody tr th:only-of-type {\n",
       "        vertical-align: middle;\n",
       "    }\n",
       "\n",
       "    .dataframe tbody tr th {\n",
       "        vertical-align: top;\n",
       "    }\n",
       "\n",
       "    .dataframe thead th {\n",
       "        text-align: right;\n",
       "    }\n",
       "</style>\n",
       "<table border=\"1\" class=\"dataframe\">\n",
       "  <thead>\n",
       "    <tr style=\"text-align: right;\">\n",
       "      <th></th>\n",
       "      <th>Name_of_movie</th>\n",
       "      <th>Description</th>\n",
       "      <th>Director</th>\n",
       "      <th>Star</th>\n",
       "      <th>Index</th>\n",
       "    </tr>\n",
       "  </thead>\n",
       "  <tbody>\n",
       "    <tr>\n",
       "      <th>0</th>\n",
       "      <td>Lưỡi Cưa</td>\n",
       "      <td>Two strangers awaken in a room with no recolle...</td>\n",
       "      <td>James Wan</td>\n",
       "      <td>Cary Elwes  Leigh Whannell  Danny Glover  Ken ...</td>\n",
       "      <td>0</td>\n",
       "    </tr>\n",
       "    <tr>\n",
       "      <th>1</th>\n",
       "      <td>Harry Potter và Hòn Đá Phù Thủy</td>\n",
       "      <td>An orphaned boy enrolls in a school of wizardr...</td>\n",
       "      <td>Chris Columbus</td>\n",
       "      <td>Daniel Radcliffe  Rupert Grint  Richard Harris...</td>\n",
       "      <td>1</td>\n",
       "    </tr>\n",
       "    <tr>\n",
       "      <th>2</th>\n",
       "      <td>Kẻ Sát Nhân Cuồng Tín</td>\n",
       "      <td>A wealthy New York City investment banking exe...</td>\n",
       "      <td>Mary Harron</td>\n",
       "      <td>Christian Bale  Justin Theroux  Josh Lucas  Bi...</td>\n",
       "      <td>2</td>\n",
       "    </tr>\n",
       "    <tr>\n",
       "      <th>3</th>\n",
       "      <td>Ngôi Nhà Toàn Ma</td>\n",
       "      <td>In 1945, immediately following the end of Seco...</td>\n",
       "      <td>Alejandro Amenábar</td>\n",
       "      <td>Nicole Kidman  Christopher Eccleston  Fionnula...</td>\n",
       "      <td>3</td>\n",
       "    </tr>\n",
       "    <tr>\n",
       "      <th>4</th>\n",
       "      <td>Chuyện Ngày Xưa Ở... Hollywood</td>\n",
       "      <td>A faded television actor and his stunt double ...</td>\n",
       "      <td>Quentin Tarantino</td>\n",
       "      <td>Leonardo DiCaprio  Brad Pitt  Margot Robbie  E...</td>\n",
       "      <td>4</td>\n",
       "    </tr>\n",
       "    <tr>\n",
       "      <th>...</th>\n",
       "      <td>...</td>\n",
       "      <td>...</td>\n",
       "      <td>...</td>\n",
       "      <td>...</td>\n",
       "      <td>...</td>\n",
       "    </tr>\n",
       "    <tr>\n",
       "      <th>195</th>\n",
       "      <td>À bout de souffle</td>\n",
       "      <td>A small-time thief steals a car and impulsivel...</td>\n",
       "      <td>Jean-Luc Godard</td>\n",
       "      <td>Jean-Paul Belmondo  Jean Seberg  Van Doude  Je...</td>\n",
       "      <td>195</td>\n",
       "    </tr>\n",
       "    <tr>\n",
       "      <th>196</th>\n",
       "      <td>Cape Fear</td>\n",
       "      <td>A lawyer's family is stalked by a man he once ...</td>\n",
       "      <td>J. Lee Thompson</td>\n",
       "      <td>Gregory Peck  Robert Mitchum  Polly Bergen  Lo...</td>\n",
       "      <td>196</td>\n",
       "    </tr>\n",
       "    <tr>\n",
       "      <th>197</th>\n",
       "      <td>The Lady Vanishes</td>\n",
       "      <td>While travelling in continental Europe, a rich...</td>\n",
       "      <td>Alfred Hitchcock</td>\n",
       "      <td>Margaret Lockwood  Michael Redgrave  Paul Luka...</td>\n",
       "      <td>197</td>\n",
       "    </tr>\n",
       "    <tr>\n",
       "      <th>198</th>\n",
       "      <td>La planète sauvage</td>\n",
       "      <td>On a faraway planet where blue giants rule, op...</td>\n",
       "      <td>René Laloux</td>\n",
       "      <td>Barry Bostwick  Jennifer Drake  Eric Baugin  J...</td>\n",
       "      <td>198</td>\n",
       "    </tr>\n",
       "    <tr>\n",
       "      <th>199</th>\n",
       "      <td>The Muppet Christmas Carol</td>\n",
       "      <td>The Muppets present their own touching renditi...</td>\n",
       "      <td>Brian Henson</td>\n",
       "      <td>Michael Caine  Dave Goelz  Steve Whitmire  Jer...</td>\n",
       "      <td>199</td>\n",
       "    </tr>\n",
       "  </tbody>\n",
       "</table>\n",
       "<p>200 rows × 5 columns</p>\n",
       "</div>"
      ],
      "text/plain": [
       "                       Name_of_movie  \\\n",
       "0                           Lưỡi Cưa   \n",
       "1    Harry Potter và Hòn Đá Phù Thủy   \n",
       "2              Kẻ Sát Nhân Cuồng Tín   \n",
       "3                   Ngôi Nhà Toàn Ma   \n",
       "4     Chuyện Ngày Xưa Ở... Hollywood   \n",
       "..                               ...   \n",
       "195                À bout de souffle   \n",
       "196                        Cape Fear   \n",
       "197                The Lady Vanishes   \n",
       "198               La planète sauvage   \n",
       "199       The Muppet Christmas Carol   \n",
       "\n",
       "                                           Description            Director  \\\n",
       "0    Two strangers awaken in a room with no recolle...           James Wan   \n",
       "1    An orphaned boy enrolls in a school of wizardr...      Chris Columbus   \n",
       "2    A wealthy New York City investment banking exe...         Mary Harron   \n",
       "3    In 1945, immediately following the end of Seco...  Alejandro Amenábar   \n",
       "4    A faded television actor and his stunt double ...   Quentin Tarantino   \n",
       "..                                                 ...                 ...   \n",
       "195  A small-time thief steals a car and impulsivel...     Jean-Luc Godard   \n",
       "196  A lawyer's family is stalked by a man he once ...     J. Lee Thompson   \n",
       "197  While travelling in continental Europe, a rich...    Alfred Hitchcock   \n",
       "198  On a faraway planet where blue giants rule, op...         René Laloux   \n",
       "199  The Muppets present their own touching renditi...        Brian Henson   \n",
       "\n",
       "                                                  Star  Index  \n",
       "0    Cary Elwes  Leigh Whannell  Danny Glover  Ken ...      0  \n",
       "1    Daniel Radcliffe  Rupert Grint  Richard Harris...      1  \n",
       "2    Christian Bale  Justin Theroux  Josh Lucas  Bi...      2  \n",
       "3    Nicole Kidman  Christopher Eccleston  Fionnula...      3  \n",
       "4    Leonardo DiCaprio  Brad Pitt  Margot Robbie  E...      4  \n",
       "..                                                 ...    ...  \n",
       "195  Jean-Paul Belmondo  Jean Seberg  Van Doude  Je...    195  \n",
       "196  Gregory Peck  Robert Mitchum  Polly Bergen  Lo...    196  \n",
       "197  Margaret Lockwood  Michael Redgrave  Paul Luka...    197  \n",
       "198  Barry Bostwick  Jennifer Drake  Eric Baugin  J...    198  \n",
       "199  Michael Caine  Dave Goelz  Steve Whitmire  Jer...    199  \n",
       "\n",
       "[200 rows x 5 columns]"
      ]
     },
     "execution_count": 5,
     "metadata": {},
     "output_type": "execute_result"
    }
   ],
   "source": [
    "movies_data"
   ]
  },
  {
   "cell_type": "code",
   "execution_count": 6,
   "id": "f9300f14",
   "metadata": {},
   "outputs": [
    {
     "data": {
      "text/plain": [
       "(200, 5)"
      ]
     },
     "execution_count": 6,
     "metadata": {},
     "output_type": "execute_result"
    }
   ],
   "source": [
    "movies_data.shape"
   ]
  },
  {
   "cell_type": "code",
   "execution_count": 7,
   "id": "8ee79118",
   "metadata": {},
   "outputs": [
    {
     "name": "stdout",
     "output_type": "stream",
     "text": [
      "['Name_of_movie', 'Description', 'Director', 'Star']\n"
     ]
    }
   ],
   "source": [
    "selected_features = ['Name_of_movie','Description','Director','Star']\n",
    "print(selected_features)"
   ]
  },
  {
   "cell_type": "code",
   "execution_count": 8,
   "id": "ec786075",
   "metadata": {},
   "outputs": [],
   "source": [
    "for feature in selected_features:\n",
    "    movies_data[feature] = movies_data[feature].fillna('')"
   ]
  },
  {
   "cell_type": "code",
   "execution_count": 9,
   "id": "29d6d2b6",
   "metadata": {},
   "outputs": [],
   "source": [
    "combined_features = movies_data['Name_of_movie']+' '+movies_data['Description']+' '+movies_data['Director']+' '+movies_data['Star']+' '"
   ]
  },
  {
   "cell_type": "code",
   "execution_count": 10,
   "id": "825dd3cf",
   "metadata": {},
   "outputs": [
    {
     "name": "stdout",
     "output_type": "stream",
     "text": [
      "0      Lưỡi Cưa Two strangers awaken in a room with n...\n",
      "1      Harry Potter và Hòn Đá Phù Thủy An orphaned bo...\n",
      "2      Kẻ Sát Nhân Cuồng Tín A wealthy New York City ...\n",
      "3      Ngôi Nhà Toàn Ma In 1945, immediately followin...\n",
      "4      Chuyện Ngày Xưa Ở... Hollywood A faded televis...\n",
      "                             ...                        \n",
      "195    À bout de souffle A small-time thief steals a ...\n",
      "196    Cape Fear A lawyer's family is stalked by a ma...\n",
      "197    The Lady Vanishes While travelling in continen...\n",
      "198    La planète sauvage On a faraway planet where b...\n",
      "199    The Muppet Christmas Carol The Muppets present...\n",
      "Length: 200, dtype: object\n"
     ]
    }
   ],
   "source": [
    "print(combined_features)"
   ]
  },
  {
   "cell_type": "code",
   "execution_count": 11,
   "id": "1e1fc9d5",
   "metadata": {},
   "outputs": [],
   "source": [
    "vectorizer = TfidfVectorizer()"
   ]
  },
  {
   "cell_type": "code",
   "execution_count": 12,
   "id": "bbf81ac5",
   "metadata": {},
   "outputs": [],
   "source": [
    "feature_vectors = vectorizer.fit_transform(combined_features)"
   ]
  },
  {
   "cell_type": "code",
   "execution_count": 13,
   "id": "2821cc97",
   "metadata": {},
   "outputs": [
    {
     "name": "stdout",
     "output_type": "stream",
     "text": [
      "  (0, 1916)\t0.17391439198769212\n",
      "  (0, 1793)\t0.17391439198769212\n",
      "  (0, 1342)\t0.1643015183033159\n",
      "  (0, 818)\t0.14560200103635942\n",
      "  (0, 3584)\t0.18746297648740595\n",
      "  (0, 1898)\t0.1643015183033159\n",
      "  (0, 1041)\t0.18746297648740595\n",
      "  (0, 544)\t0.18746297648740595\n",
      "  (0, 3543)\t0.17391439198769212\n",
      "  (0, 1694)\t0.11404289111979825\n",
      "  (0, 1811)\t0.15684519419529852\n",
      "  (0, 2929)\t0.18746297648740595\n",
      "  (0, 2361)\t0.17391439198769212\n",
      "  (0, 481)\t0.0918227605601619\n",
      "  (0, 2498)\t0.18746297648740595\n",
      "  (0, 1274)\t0.1643015183033159\n",
      "  (0, 840)\t0.18746297648740595\n",
      "  (0, 2480)\t0.17391439198769212\n",
      "  (0, 2685)\t0.18746297648740595\n",
      "  (0, 927)\t0.15684519419529852\n",
      "  (0, 3037)\t0.15684519419529852\n",
      "  (0, 163)\t0.056081334126960466\n",
      "  (0, 3239)\t0.18746297648740595\n",
      "  (0, 1368)\t0.18746297648740595\n",
      "  (0, 3245)\t0.22104455565423678\n",
      "  :\t:\n",
      "  (199, 3594)\t0.22735864632632152\n",
      "  (199, 1348)\t0.22735864632632152\n",
      "  (199, 3186)\t0.22735864632632152\n",
      "  (199, 912)\t0.22735864632632152\n",
      "  (199, 2743)\t0.22735864632632152\n",
      "  (199, 3319)\t0.22735864632632152\n",
      "  (199, 2594)\t0.22735864632632152\n",
      "  (199, 2234)\t0.22735864632632152\n",
      "  (199, 536)\t0.22735864632632152\n",
      "  (199, 2233)\t0.22735864632632152\n",
      "  (199, 631)\t0.21092666658711334\n",
      "  (199, 575)\t0.17658886292277723\n",
      "  (199, 439)\t0.19022482040568578\n",
      "  (199, 1711)\t0.21092666658711334\n",
      "  (199, 507)\t0.21092666658711334\n",
      "  (199, 604)\t0.21092666658711334\n",
      "  (199, 2301)\t0.19926799142288681\n",
      "  (199, 1504)\t0.21092666658711334\n",
      "  (199, 829)\t0.19926799142288681\n",
      "  (199, 3092)\t0.19022482040568578\n",
      "  (199, 2156)\t0.14062979312558024\n",
      "  (199, 3234)\t0.12188139730182761\n",
      "  (199, 2446)\t0.16213416550225107\n",
      "  (199, 3233)\t0.11331383295551425\n",
      "  (199, 2385)\t0.06245625683120588\n"
     ]
    }
   ],
   "source": [
    "print(feature_vectors)"
   ]
  },
  {
   "cell_type": "code",
   "execution_count": 14,
   "id": "fd425dc8",
   "metadata": {},
   "outputs": [],
   "source": [
    "similarity = cosine_similarity(feature_vectors)"
   ]
  },
  {
   "cell_type": "code",
   "execution_count": 15,
   "id": "3c3b9148",
   "metadata": {},
   "outputs": [
    {
     "name": "stdout",
     "output_type": "stream",
     "text": [
      "[[1.         0.01380236 0.00298497 ... 0.00819357 0.         0.0032163 ]\n",
      " [0.01380236 1.         0.02525083 ... 0.03876341 0.01986444 0.01976437]\n",
      " [0.00298497 0.02525083 1.         ... 0.00969991 0.         0.        ]\n",
      " ...\n",
      " [0.00819357 0.03876341 0.00969991 ... 1.         0.         0.02922815]\n",
      " [0.         0.01986444 0.         ... 0.         1.         0.01380436]\n",
      " [0.0032163  0.01976437 0.         ... 0.02922815 0.01380436 1.        ]]\n"
     ]
    }
   ],
   "source": [
    "print(similarity)"
   ]
  },
  {
   "cell_type": "code",
   "execution_count": 16,
   "id": "1fa0871d",
   "metadata": {},
   "outputs": [
    {
     "name": "stdout",
     "output_type": "stream",
     "text": [
      "(200, 200)\n"
     ]
    }
   ],
   "source": [
    "print(similarity.shape)"
   ]
  },
  {
   "cell_type": "code",
   "execution_count": 20,
   "id": "9d251245",
   "metadata": {},
   "outputs": [
    {
     "name": "stdout",
     "output_type": "stream",
     "text": [
      "['Lưỡi Cưa', 'Harry Potter và Hòn Đá Phù Thủy', 'Kẻ Sát Nhân Cuồng Tín', 'Ngôi Nhà Toàn Ma', 'Chuyện Ngày Xưa Ở... Hollywood', 'Nhân Tố Thứ 5', 'RoboCop', 'Người Hùng Báo Thù', 'Chúng Ta Làm Gì Trong Bóng Tối', 'The Birds', '300 Chiến Binh', 'Siêu Tệ Hại', 'Deadpool 2', 'The Fly', 'Cách Mạng Công Sở', 'Ánh Sao Ma Thuật', 'My Cousin Vinny', 'Chiến Tranh Giữa Các Vì Sao 3: Người Sith Báo Thù', 'Không Lùi Bước', 'Kung Fu Panda', 'Kẻ Trộm Mặt Trăng', 'Tiền Bi', 'Vệ Binh Dải Ngân Hà 2', 'Vì Sao Vụt Sáng', 'Lằn Ranh Đỏ Mỏng Manh', 'Hiệu Ứng Cánh Bướm', 'Nửa Đêm Ở Paris', 'Bản Báo Cáo Thiểu Số', 'Người Hùng Củ Chuối', 'After Hours', 'Gia Đình Thiên Tài', 'The Invisible Man', 'Gã Thợ Máy', 'Đứa Bé Mất Tích', 'Match Point', 'True Grit: Báo Thù', 'Hang Quỷ Đông Âu', 'Góc Khuất', 'End of Watch', 'Vũ Khí Tối Thượng', 'Cậu Bé Rừng Xanh', 'Max Điên 2: Hung Thần Xa Lộ', 'Đương Đầu Với Thử Thách 3', 'Nhà Mitchell Đối Đầu Với Máy Móc', 'Cô Bé Người Cá Ponyo', 'Truy Tìm Tung Tích Ảo', 'Cái Giá Của Sự Thật', 'Đột kích: Chuộc tội', 'Mối Tình Tay Ba Trường Rushmore', 'The Taking of Pelham One Two Three', 'Vị Vua Cuối Cùng Của Scotland', 'Tôi Là Sam', 'Hên Xui', 'Những Mảnh Đời Bất Hạnh', 'Rebel Without a Cause', 'The Bridges of Madison County', 'Barton Fink', 'Đường Đến Tội Ác', 'Philomena', 'Chuyến Bay Số Hiệu 93', 'Kỷ Niệm Về Marnie', 'Control', 'Cuộc Đính Hôn Lâu Dài', 'Tỏa Sáng', 'Phòng Giam 211', 'Sát Nhân Halloween', 'Sát Thủ John Wick: Chương 4', 'Cô Bé Coraline', 'The Goonies', 'Vùng Đất Tử Thần', 'Béo Phì', 'Ở Nhà Một Mình', 'Harry Potter và Chiếc Cốc Lửa', 'Sicario: Ranh Giới', 'Người Đỡ Đạn', 'Ba Chàng Ngự Lâm', 'Sát Nhân Huyền Thoại', 'Nhiệm Vụ Bất Khả Thi: Sụp Đổ', 'The Banshees of Inisherin', 'Tình Yêu Tìm Lại', 'Aftersun', 'Mật Vụ Kingsman', 'Diều Hâu Gãy Cánh', 'Harry Potter và Bảo Bối Tử Thần: Phần 1', \"La vie d'Adèle\", 'Lạc Lối Ở Tokyo', 'Mr. Nobody', '11 Tên Cướp Thế Kỷ', 'Apollo 13: Bí Ẩn Mặt Trăng', 'Ma Cây 2: Bình Minh Chết Chóc', 'Chuyến Bay Tình Yêu', 'Trò Chơi Ma Quỷ', 'When Harry Met Sally...', 'Dirty Harry', 'Người Máy Trỗi Dậy', 'Công Chúa Tóc Mây', 'Ngày Huấn Luyện', 'Blue Velvet', 'Người Mohican Cuối Cùng', '500 Ngày Yêu', 'Chuyện Tình Sau Núi', 'Tình Yêu Của Gilbert Grape', 'Rambo: Đổ Máu', 'Cuộc Chiến Không Trọng Lực', 'Ai Mưu Hại Thỏ Roger?', 'Verdens verste menneske', 'Y tu mamá también', 'Chỉ Đến Thế Mà Thôi', 'Chỉ Vài Người Tốt', 'Wait Until Dark', 'Cảnh Sát Trưởng Da Đen', 'X-Men: Thế Hệ Thứ Nhất', 'Donnie Brasco: Kẻ Nằm Vùng', 'Lật Ngược', 'Người Chim hay (Công Dụng Không Ngờ Của Việc Kém Nổi Tiếng)', 'Bá Tước Monte Cristo', 'Druk', 'Án Mạng Trong Tu Viện', 'Hoa Mộc Lan', 'Phán Quyết', 'Đổ Vỡ', 'Naked', 'Câu Chuyện Đồ Chơi 4', 'Công Nghệ Gen', 'Chiến Dịch Sinh Tử', 'Súng Thần', 'Cuốn Sổ Đen', 'Tột Cùng Sợ Hãi', 'Chú bé mang pyjama sọc', 'Sound of Metal', 'Câu Chuyện Lego', 'Ráp-phờ Đập Phá', 'Kẻ Đầu Mối Pháp', 'Màu tía', '3 Kẻ Trốn Tù', 'Fried Green Tomatoes', 'Philadelphia', 'Bảy Tay Súng Huyền Thoại', 'Ondskan', 'Con Đường Diệt Vong', 'Ngón Tay Vàng', 'Khi Lỗi Thuộc Về Những Vì Sao', 'Lý Trí Và Tình Cảm', 'Đây Là Nước Anh', 'Chuyến Tàu Tới Yuma', 'Spoorloos', 'Đế Chế Mặt Trời', 'Badlands', 'Billy Elliot', 'Thuyết Yêu Thương', 'Tuyệt Đỉnh Kung Fu', 'Hững Hờ', 'Con Số May Mắn', 'Siêu Điệp Viên 2: Quyền Lực Của Bourne', 'Adaptation.', 'Thử Làm John Malkovich', 'Phiên Tòa Chicago 7', 'Cuộc Đời Của Serpico', 'Hamlet', 'Glengarry Glen Ross', 'En man som heter Ove', 'Star Trek: Chìm Trong Bóng Tối', 'Invasion of the Body Snatchers', 'Khu Phố Roma', 'Sorcerer', 'La grande bellezza', 'Gió Nổi', 'Kẻ Trộm Giấc Mơ', 'Những Kẻ Cướp Nhà Băng', 'Malcolm X', 'Happiness', 'Belle de jour', 'Ordinary People', 'Dân Chơi', 'South Park: Bigger, Longer & Uncut', 'Ray', 'Tiểu Đội Trừng Giới', 'Star Trek 2: Cơn thịnh nộ của Khan', 'Hoàng Đế Cuối Cùng', 'The Verdict', 'The Longest Day', 'Người Mẹ', 'Tôi, Earl và Cô Bạn Hấp Hối', 'Nebraska', \"Miller's Crossing\", 'Kubo và Sứ Mệnh Samurai', 'Giai Điệu Kỳ Diệu', 'Người Vô Danh Tính', 'The Quiet Man', 'Abre los ojos', 'Đi Tìm Miền Đất Hứa', 'Kurenai no buta', 'Người Lạ Hoàn Hảo', 'Short Cuts', 'Chạy Đi Lola', 'À bout de souffle', 'Cape Fear', 'The Lady Vanishes', 'La planète sauvage', 'The Muppet Christmas Carol']\n"
     ]
    }
   ],
   "source": [
    "list_of_all_titles = movies_data['Name_of_movie'].tolist()\n",
    "print(list_of_all_titles)     "
   ]
  },
  {
   "cell_type": "code",
   "execution_count": null,
   "id": "fb41ff1d",
   "metadata": {
    "scrolled": true
   },
   "outputs": [],
   "source": [
    "movie_name = input(' Enter your favourite movie name : ')"
   ]
  },
  {
   "cell_type": "code",
   "execution_count": null,
   "id": "56fe5dcc",
   "metadata": {},
   "outputs": [],
   "source": [
    "find_close_match = difflib.get_close_matches(movie_name, list_of_all_titles)\n",
    "print(find_close_match)"
   ]
  },
  {
   "cell_type": "code",
   "execution_count": null,
   "id": "77096097",
   "metadata": {},
   "outputs": [],
   "source": [
    "close_match = find_close_match[0]\n",
    "print(close_match)"
   ]
  },
  {
   "cell_type": "code",
   "execution_count": 24,
   "id": "1fef7e30",
   "metadata": {},
   "outputs": [
    {
     "name": "stdout",
     "output_type": "stream",
     "text": [
      "93\n"
     ]
    }
   ],
   "source": [
    "index_of_the_movie = movies_data[movies_data.Name_of_movie == close_match]['Index'].values[0]\n",
    "print(index_of_the_movie)"
   ]
  },
  {
   "cell_type": "code",
   "execution_count": 25,
   "id": "d94acff3",
   "metadata": {},
   "outputs": [
    {
     "name": "stdout",
     "output_type": "stream",
     "text": [
      "[(0, 0.020997037057070612), (1, 0.09052118929554148), (2, 0.007446587101254331), (3, 0.01626962030972389), (4, 0.005772125870352039), (5, 0.013689911866862641), (6, 0.015836361513339673), (7, 0.01364567919137992), (8, 0.007218530919404686), (9, 0.059870624598807376), (10, 0.004108317518918487), (11, 0.004478764173957589), (12, 0.005582675150209168), (13, 0.017874789741034562), (14, 0.0025320736830660925), (15, 0.016241005547103077), (16, 0.005813973329843989), (17, 0.014457826147230849), (18, 0.018784822506865237), (19, 0.03197374788637842), (20, 0.028585242246187144), (21, 0.004311228687515521), (22, 0.017158292647350616), (23, 0.008363857142558351), (24, 0.008135383130534636), (25, 0.010729663833642055), (26, 0.026690051826445595), (27, 0.049725608495249846), (28, 0.009427045960616956), (29, 0.006142083192084402), (30, 0.008400610256195241), (31, 0.01643283792239355), (32, 0.002615896886157031), (33, 0.0), (34, 0.004352965388386423), (35, 0.08623874992504521), (36, 0.0021960241541238565), (37, 0.00742425732698822), (38, 0.03433939024100407), (39, 0.0023339114884987477), (40, 0.0158523138285018), (41, 0.005898067771076703), (42, 0.005965695146232574), (43, 0.02238141602072262), (44, 0.002228363852455149), (45, 0.002588523475951582), (46, 0.0), (47, 0.0), (48, 0.001921111143325794), (49, 0.029631630877833975), (50, 0.019971729353061962), (51, 0.019255933375623997), (52, 0.006050620616936233), (53, 0.0), (54, 0.015417386698087775), (55, 0.2307377914964521), (56, 0.01982271426897462), (57, 0.007342751271152794), (58, 0.0054996657556786056), (59, 0.019486397896745687), (60, 0.016020419015458354), (61, 0.009709810305801259), (62, 0.011643165584920569), (63, 0.008446201075360395), (64, 0.030181117895092893), (65, 0.007878306394942473), (66, 0.007828336774139707), (67, 0.006514055425773234), (68, 0.010157397810296821), (69, 0.007605691622635111), (70, 0.002586173064435678), (71, 0.0), (72, 0.1402502368327828), (73, 0.020019675332674368), (74, 0.00648240093150276), (75, 0.011940451012653022), (76, 0.0802689621223857), (77, 0.0), (78, 0.016260461565212797), (79, 0.011374486682046912), (80, 0.028509469158379173), (81, 0.003865485045892229), (82, 0.005383500097563381), (83, 0.135552677250216), (84, 0.023906934136901342), (85, 0.0), (86, 0.032546896026858), (87, 0.002520309042574603), (88, 0.013728369633028882), (89, 0.007230942770099425), (90, 0.003516857190382876), (91, 0.07974340842322958), (92, 0.133032193283054), (93, 1.0), (94, 0.012163536529847276), (95, 0.022014650585742077), (96, 0.011011365656574108), (97, 0.01615023731084474), (98, 0.013102866022317122), (99, 0.007390396175745338), (100, 0.0127862894183067), (101, 0.015086069724984916), (102, 0.02334402484835854), (103, 0.0026168606422267483), (104, 0.027065605319676535), (105, 0.019236048439412807), (106, 0.0), (107, 0.009875496719255174), (108, 0.0), (109, 0.01265526704806563), (110, 0.0022961702898847544), (111, 0.0072828875662163985), (112, 0.03168214833878279), (113, 0.0025122456130958785), (114, 0.002105401694614592), (115, 0.014175784726132862), (116, 0.0023049452201492123), (117, 0.0), (118, 0.009625431408975284), (119, 0.006871307363678449), (120, 0.026671637436496233), (121, 0.009208912294917373), (122, 0.017909567163911923), (123, 0.04164474842699698), (124, 0.00847229163176017), (125, 0.004096618349506483), (126, 0.011756992420197841), (127, 0.018301542538232823), (128, 0.01611786092556423), (129, 0.03765967800625264), (130, 0.023877194512823753), (131, 0.010387428144491511), (132, 0.0035438446997659565), (133, 0.002477573045819597), (134, 0.007991685850331892), (135, 0.017497589874734508), (136, 0.04025688908537669), (137, 0.002468826429687467), (138, 0.021300642607613912), (139, 0.027119776974761645), (140, 0.006204650193642504), (141, 0.0023584700928642867), (142, 0.011087202418536326), (143, 0.028673967009302446), (144, 0.021156014980790942), (145, 0.008075275010435812), (146, 0.0026274818009421243), (147, 0.003945461926389442), (148, 0.004448394935431692), (149, 0.009511221626303879), (150, 0.008345985729691188), (151, 0.008657894829870505), (152, 0.006594852652346344), (153, 0.034725642940816946), (154, 0.02043261015373574), (155, 0.0037363249722093157), (156, 0.011118901808214926), (157, 0.009679483421098669), (158, 0.011723401157625105), (159, 0.00927456024155939), (160, 0.01528944591755419), (161, 0.02102388460499368), (162, 0.0697649715566501), (163, 0.008428708013706009), (164, 0.027451932294591187), (165, 0.01087755875905845), (166, 0.020795455176898583), (167, 0.017663136779432386), (168, 0.0035650260856416975), (169, 0.02409810516205077), (170, 0.01819144886288569), (171, 0.012149054362619316), (172, 0.021668555469535666), (173, 0.016200966493233854), (174, 0.01805869299675505), (175, 0.021266813727977972), (176, 0.035032094097393815), (177, 0.02050114198247263), (178, 0.003847955160873145), (179, 0.01227540025848654), (180, 0.03262398735660006), (181, 0.02784032942060849), (182, 0.0), (183, 0.008046339295968487), (184, 0.008036340142516085), (185, 0.005765770979304241), (186, 0.002798779645510346), (187, 0.008675591878840844), (188, 0.02777865120917842), (189, 0.023183711214695056), (190, 0.006949549525833423), (191, 0.009326517499460656), (192, 0.00215737894859462), (193, 0.007651147594247929), (194, 0.0023175498522506875), (195, 0.008153099282595704), (196, 0.021298571380689794), (197, 0.01047722626466061), (198, 0.0), (199, 0.009036192540993797)]\n"
     ]
    }
   ],
   "source": [
    "similarity_score = list(enumerate(similarity[index_of_the_movie]))\n",
    "print(similarity_score)"
   ]
  },
  {
   "cell_type": "code",
   "execution_count": 26,
   "id": "432aa11b",
   "metadata": {},
   "outputs": [
    {
     "name": "stdout",
     "output_type": "stream",
     "text": [
      "[(93, 1.0), (55, 0.2307377914964521), (72, 0.1402502368327828), (83, 0.135552677250216), (92, 0.133032193283054), (1, 0.09052118929554148), (35, 0.08623874992504521), (76, 0.0802689621223857), (91, 0.07974340842322958), (162, 0.0697649715566501), (9, 0.059870624598807376), (27, 0.049725608495249846), (123, 0.04164474842699698), (136, 0.04025688908537669), (129, 0.03765967800625264), (176, 0.035032094097393815), (153, 0.034725642940816946), (38, 0.03433939024100407), (180, 0.03262398735660006), (86, 0.032546896026858), (19, 0.03197374788637842), (112, 0.03168214833878279), (64, 0.030181117895092893), (49, 0.029631630877833975), (143, 0.028673967009302446), (20, 0.028585242246187144), (80, 0.028509469158379173), (181, 0.02784032942060849), (188, 0.02777865120917842), (164, 0.027451932294591187), (139, 0.027119776974761645), (104, 0.027065605319676535), (26, 0.026690051826445595), (120, 0.026671637436496233), (169, 0.02409810516205077), (84, 0.023906934136901342), (130, 0.023877194512823753), (102, 0.02334402484835854), (189, 0.023183711214695056), (43, 0.02238141602072262), (95, 0.022014650585742077), (172, 0.021668555469535666), (138, 0.021300642607613912), (196, 0.021298571380689794), (175, 0.021266813727977972), (144, 0.021156014980790942), (161, 0.02102388460499368), (0, 0.020997037057070612), (166, 0.020795455176898583), (177, 0.02050114198247263), (154, 0.02043261015373574), (73, 0.020019675332674368), (50, 0.019971729353061962), (56, 0.01982271426897462), (59, 0.019486397896745687), (51, 0.019255933375623997), (105, 0.019236048439412807), (18, 0.018784822506865237), (127, 0.018301542538232823), (170, 0.01819144886288569), (174, 0.01805869299675505), (122, 0.017909567163911923), (13, 0.017874789741034562), (167, 0.017663136779432386), (135, 0.017497589874734508), (22, 0.017158292647350616), (31, 0.01643283792239355), (3, 0.01626962030972389), (78, 0.016260461565212797), (15, 0.016241005547103077), (173, 0.016200966493233854), (97, 0.01615023731084474), (128, 0.01611786092556423), (60, 0.016020419015458354), (40, 0.0158523138285018), (6, 0.015836361513339673), (54, 0.015417386698087775), (160, 0.01528944591755419), (101, 0.015086069724984916), (17, 0.014457826147230849), (115, 0.014175784726132862), (88, 0.013728369633028882), (5, 0.013689911866862641), (7, 0.01364567919137992), (98, 0.013102866022317122), (100, 0.0127862894183067), (109, 0.01265526704806563), (179, 0.01227540025848654), (94, 0.012163536529847276), (171, 0.012149054362619316), (75, 0.011940451012653022), (126, 0.011756992420197841), (158, 0.011723401157625105), (62, 0.011643165584920569), (79, 0.011374486682046912), (156, 0.011118901808214926), (142, 0.011087202418536326), (96, 0.011011365656574108), (165, 0.01087755875905845), (25, 0.010729663833642055), (197, 0.01047722626466061), (131, 0.010387428144491511), (68, 0.010157397810296821), (107, 0.009875496719255174), (61, 0.009709810305801259), (157, 0.009679483421098669), (118, 0.009625431408975284), (149, 0.009511221626303879), (28, 0.009427045960616956), (191, 0.009326517499460656), (159, 0.00927456024155939), (121, 0.009208912294917373), (199, 0.009036192540993797), (187, 0.008675591878840844), (151, 0.008657894829870505), (124, 0.00847229163176017), (63, 0.008446201075360395), (163, 0.008428708013706009), (30, 0.008400610256195241), (23, 0.008363857142558351), (150, 0.008345985729691188), (195, 0.008153099282595704), (24, 0.008135383130534636), (145, 0.008075275010435812), (183, 0.008046339295968487), (184, 0.008036340142516085), (134, 0.007991685850331892), (65, 0.007878306394942473), (66, 0.007828336774139707), (193, 0.007651147594247929), (69, 0.007605691622635111), (2, 0.007446587101254331), (37, 0.00742425732698822), (99, 0.007390396175745338), (57, 0.007342751271152794), (111, 0.0072828875662163985), (89, 0.007230942770099425), (8, 0.007218530919404686), (190, 0.006949549525833423), (119, 0.006871307363678449), (152, 0.006594852652346344), (67, 0.006514055425773234), (74, 0.00648240093150276), (140, 0.006204650193642504), (29, 0.006142083192084402), (52, 0.006050620616936233), (42, 0.005965695146232574), (41, 0.005898067771076703), (16, 0.005813973329843989), (4, 0.005772125870352039), (185, 0.005765770979304241), (12, 0.005582675150209168), (58, 0.0054996657556786056), (82, 0.005383500097563381), (11, 0.004478764173957589), (148, 0.004448394935431692), (34, 0.004352965388386423), (21, 0.004311228687515521), (10, 0.004108317518918487), (125, 0.004096618349506483), (147, 0.003945461926389442), (81, 0.003865485045892229), (178, 0.003847955160873145), (155, 0.0037363249722093157), (168, 0.0035650260856416975), (132, 0.0035438446997659565), (90, 0.003516857190382876), (186, 0.002798779645510346), (146, 0.0026274818009421243), (103, 0.0026168606422267483), (32, 0.002615896886157031), (45, 0.002588523475951582), (70, 0.002586173064435678), (14, 0.0025320736830660925), (87, 0.002520309042574603), (113, 0.0025122456130958785), (133, 0.002477573045819597), (137, 0.002468826429687467), (141, 0.0023584700928642867), (39, 0.0023339114884987477), (194, 0.0023175498522506875), (116, 0.0023049452201492123), (110, 0.0022961702898847544), (44, 0.002228363852455149), (36, 0.0021960241541238565), (192, 0.00215737894859462), (114, 0.002105401694614592), (48, 0.001921111143325794), (33, 0.0), (46, 0.0), (47, 0.0), (53, 0.0), (71, 0.0), (77, 0.0), (85, 0.0), (106, 0.0), (108, 0.0), (117, 0.0), (182, 0.0), (198, 0.0)]\n"
     ]
    }
   ],
   "source": [
    "sorted_similar_movies = sorted(similarity_score, key = lambda x:x[1], reverse = True) \n",
    "print(sorted_similar_movies)"
   ]
  },
  {
   "cell_type": "code",
   "execution_count": 27,
   "id": "b9a61965",
   "metadata": {},
   "outputs": [
    {
     "name": "stdout",
     "output_type": "stream",
     "text": [
      "Gợi ý phim : \n",
      "\n",
      "1 . Dirty Harry\n",
      "2 . The Bridges of Madison County\n",
      "3 . Harry Potter và Chiếc Cốc Lửa\n",
      "4 . Harry Potter và Bảo Bối Tử Thần: Phần 1\n",
      "5 . When Harry Met Sally...\n",
      "6 . Harry Potter và Hòn Đá Phù Thủy\n",
      "7 . True Grit: Báo Thù\n",
      "8 . Sát Nhân Huyền Thoại\n",
      "9 . Trò Chơi Ma Quỷ\n",
      "10 . Invasion of the Body Snatchers\n",
      "11 . The Birds\n",
      "12 . Bản Báo Cáo Thiểu Số\n",
      "13 . Công Nghệ Gen\n",
      "14 . Philadelphia\n",
      "15 . Sound of Metal\n",
      "16 . Tiểu Đội Trừng Giới\n",
      "17 . Siêu Điệp Viên 2: Quyền Lực Của Bourne\n",
      "18 . End of Watch\n",
      "19 . The Longest Day\n",
      "20 . Mr. Nobody\n",
      "21 . Kung Fu Panda\n",
      "22 . Donnie Brasco: Kẻ Nằm Vùng\n",
      "23 . Phòng Giam 211\n",
      "24 . The Taking of Pelham One Two Three\n",
      "25 . Đây Là Nước Anh\n",
      "26 . Kẻ Trộm Mặt Trăng\n",
      "27 . Aftersun\n",
      "28 . Người Mẹ\n",
      "29 . The Quiet Man\n"
     ]
    }
   ],
   "source": [
    "print('Gợi ý phim : \\n')\n",
    "\n",
    "i = 1\n",
    "\n",
    "for movie in sorted_similar_movies:\n",
    "    index = movie[0]\n",
    "    Name_of_movie_from_index = movies_data[movies_data.index==index]['Name_of_movie'].values[0]\n",
    "    if (i<30):\n",
    "        print(i, '.',Name_of_movie_from_index)\n",
    "        i+=1"
   ]
  },
  {
   "cell_type": "code",
   "execution_count": 28,
   "id": "796ce3b2",
   "metadata": {},
   "outputs": [],
   "source": [
    "import pickle"
   ]
  },
  {
   "cell_type": "code",
   "execution_count": 29,
   "id": "ceb5b320",
   "metadata": {},
   "outputs": [],
   "source": [
    "pickle.dump(movies_data,open('movie_list.pkl','wb'))\n"
   ]
  },
  {
   "cell_type": "code",
   "execution_count": 30,
   "id": "b069f714",
   "metadata": {},
   "outputs": [],
   "source": [
    "pickle.dump(similarity,open('similarity.pkl','wb'))\n"
   ]
  },
  {
   "cell_type": "code",
   "execution_count": null,
   "id": "c653fb7c",
   "metadata": {},
   "outputs": [],
   "source": []
  }
 ],
 "metadata": {
  "kernelspec": {
   "display_name": "Python 3 (ipykernel)",
   "language": "python",
   "name": "python3"
  },
  "language_info": {
   "codemirror_mode": {
    "name": "ipython",
    "version": 3
   },
   "file_extension": ".py",
   "mimetype": "text/x-python",
   "name": "python",
   "nbconvert_exporter": "python",
   "pygments_lexer": "ipython3",
   "version": "3.11.5"
  }
 },
 "nbformat": 4,
 "nbformat_minor": 5
}
